{
 "cells": [
  {
   "cell_type": "code",
   "execution_count": 151,
   "id": "cb7cc646",
   "metadata": {},
   "outputs": [],
   "source": [
    "# using Pkg\n",
    "# Pkg.add(\"SpecialFunctions\")\n",
    "using Distributions\n",
    "using Gadfly\n",
    "using SpecialFunctions\n",
    "using Cairo"
   ]
  },
  {
   "cell_type": "code",
   "execution_count": 152,
   "id": "1cd04851",
   "metadata": {},
   "outputs": [
    {
     "data": {
      "text/plain": [
       "1000-element Vector{Float64}:\n",
       " 0.8545998963343767\n",
       " 0.3146366778444569\n",
       " 0.25190689902203317\n",
       " 0.13067334999963304\n",
       " 0.3529872985858248\n",
       " 0.20806475348886705\n",
       " 0.8427068396389958\n",
       " 0.4128566567403437\n",
       " 0.05578097426451373\n",
       " 0.44969982653348467\n",
       " ⋮\n",
       " 0.7177083372180927\n",
       " 0.8719333553533368\n",
       " 0.4300812625765916\n",
       " 0.8231725385273645\n",
       " 0.35224040323661715\n",
       " 0.8768135700024954\n",
       " 0.6462570059613765\n",
       " 0.6126968459101958\n",
       " 0.7972508553908163"
      ]
     },
     "metadata": {},
     "output_type": "display_data"
    }
   ],
   "source": [
    "d = Beta(2, 2)\n",
    "sample = rand(d, 1000)"
   ]
  },
  {
   "cell_type": "code",
   "execution_count": 153,
   "id": "d2719c52",
   "metadata": {},
   "outputs": [
    {
     "data": {
      "text/plain": [
       "dL_db (generic function with 1 method)"
      ]
     },
     "metadata": {},
     "output_type": "display_data"
    }
   ],
   "source": [
    "function dL_da(sample, a, b)\n",
    "    n = length(sample);\n",
    "    return n * (digamma(a) - digamma(a + b)) - sum(log.(sample));\n",
    "end\n",
    "\n",
    "function dL_db(sample, a, b)\n",
    "    n = length(sample);\n",
    "    return n * (digamma(b) - digamma(a + b)) - sum(log.(1 .- sample));\n",
    "end"
   ]
  },
  {
   "cell_type": "code",
   "execution_count": 154,
   "id": "ce3547cc",
   "metadata": {},
   "outputs": [
    {
     "data": {
      "text/plain": [
       "grad_descent_beta (generic function with 1 method)"
      ]
     },
     "metadata": {},
     "output_type": "display_data"
    }
   ],
   "source": [
    "function grad_descent_beta(sample)\n",
    "    n = length(sample);\n",
    "    max_iter = 1000;\n",
    "    epsilon = 1e-3;\n",
    "    lr = 1e-3;\n",
    "\n",
    "    # Initialize parameters\n",
    "    alpha = rand() * 10;\n",
    "    beta = rand() * 10;\n",
    "\n",
    "    for i = 1:max_iter\n",
    "        alpha_new = alpha - lr * dL_da(sample, alpha, beta);\n",
    "        beta_new = beta - lr * dL_db(sample, alpha, beta);\n",
    "        # Ensure parameters remain positive\n",
    "        alpha_new = max(alpha_new, 1e-3);\n",
    "        beta_new = max(beta_new, 1e-3);\n",
    "\n",
    "        if abs(alpha_new - alpha) < epsilon && abs(beta_new - beta) < epsilon\n",
    "            alpha = alpha_new;\n",
    "            beta = beta_new;\n",
    "            # println(\"Converged in iteration $i\");\n",
    "            # println(\"Estimated parameters: alpha = $alpha, beta = $beta\");\n",
    "            break;\n",
    "        end\n",
    "        alpha = alpha_new;\n",
    "        beta = beta_new;\n",
    "    end\n",
    "    return alpha, beta;\n",
    "end"
   ]
  },
  {
   "cell_type": "code",
   "execution_count": 155,
   "id": "a6a09235",
   "metadata": {},
   "outputs": [
    {
     "data": {
      "text/plain": [
       "(2.111670869420904, 2.1709783392577395)"
      ]
     },
     "metadata": {},
     "output_type": "display_data"
    }
   ],
   "source": [
    "grad_descent_beta(sample)"
   ]
  },
  {
   "cell_type": "code",
   "execution_count": 156,
   "id": "0b849fc3",
   "metadata": {},
   "outputs": [],
   "source": [
    "sample_sizes = collect(2:1000)\n",
    "est_alpha = zeros(length(sample_sizes))\n",
    "est_beta = zeros(length(sample_sizes))\n",
    "\n",
    "for i = 1:length(sample_sizes)\n",
    "    sample = rand(d, sample_sizes[i])\n",
    "    a, b = grad_descent_beta(sample)\n",
    "    est_alpha[i] = a\n",
    "    est_beta[i] = b\n",
    "end\n",
    "\n",
    "myplot1 = plot(x=sample_sizes, y=est_alpha, Geom.line,\n",
    "    Guide.xlabel(\"Sample Size\"),\n",
    "    Guide.ylabel(\"Estimated Alpha\"),\n",
    "    Guide.title(\"Consistency of Alpha\"),\n",
    "    Theme(background_color=\"white\")\n",
    ")\n",
    "\n",
    "myplot2 = plot(x=sample_sizes, y=est_beta, Geom.line,\n",
    "    Guide.xlabel(\"Sample Size\"),\n",
    "    Guide.ylabel(\"Estimated Beta\"),\n",
    "    Guide.title(\"Consistency of Beta\"),\n",
    "    Theme(background_color=\"white\")\n",
    ")\n",
    "\n",
    "final_plot = hstack(myplot1, myplot2)\n",
    "draw(PNG(\"estimation.png\", 10inch, 5inch), final_plot)\n"
   ]
  }
 ],
 "metadata": {
  "kernelspec": {
   "display_name": "Julia 1.6.5",
   "language": "julia",
   "name": "julia-1.6"
  },
  "language_info": {
   "file_extension": ".jl",
   "mimetype": "application/julia",
   "name": "julia",
   "version": "1.6.5"
  }
 },
 "nbformat": 4,
 "nbformat_minor": 5
}
